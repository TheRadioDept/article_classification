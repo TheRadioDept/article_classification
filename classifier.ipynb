{
 "cells": [
  {
   "cell_type": "code",
   "execution_count": null,
   "metadata": {},
   "outputs": [],
   "source": [
    "import pandas as pd\n",
    "import os\n",
    "from collections import Counter\n",
    "import nltk\n",
    "from natsort import natsorted\n",
    "nltk.download('stopwords')\n",
    "nltk.download('punkt')\n",
    "from nltk.corpus import stopwords\n",
    "from nltk import word_tokenize"
   ]
  },
  {
   "cell_type": "markdown",
   "metadata": {},
   "source": [
    "This code is used to open existing RAW article and filter it. We are removing stop words, and splitting text into list of words."
   ]
  },
  {
   "cell_type": "code",
   "execution_count": 18,
   "metadata": {},
   "outputs": [],
   "source": [
    "def articleClean():\n",
    "    data = open(\"test_article.txt\", \"r\")\n",
    "    article = data.read()\n",
    "\n",
    "    stop_words = set(stopwords.words('english'))\n",
    "\n",
    "    word_tokens = word_tokenize(article)\n",
    "\n",
    "    filtered_data = [] \n",
    "    for word in word_tokens:\n",
    "        if word not in stop_words:\n",
    "            filtered_data.append(word)\n",
    "    \n",
    "    string_set = ' '.join(str(e) for e in filtered_data)\n",
    "    \n",
    "    file = open(\"training_set.csv\", \"w+\")\n",
    "    file.write(string_set)\n",
    "    file.close()\n",
    "    \n",
    "    "
   ]
  },
  {
   "cell_type": "markdown",
   "metadata": {},
   "source": [
    "Executing articleClean() function."
   ]
  },
  {
   "cell_type": "code",
   "execution_count": null,
   "metadata": {},
   "outputs": [],
   "source": [
    "articleClean()"
   ]
  },
  {
   "cell_type": "code",
   "execution_count": 20,
   "metadata": {},
   "outputs": [],
   "source": [
    "all_articles = []\n",
    "genres = []"
   ]
  },
  {
   "cell_type": "markdown",
   "metadata": {},
   "source": [
    "Get all files as list"
   ]
  },
  {
   "cell_type": "code",
   "execution_count": 21,
   "metadata": {},
   "outputs": [],
   "source": [
    "os.chdir(\"/home/farkhad/Documents/University/Data_Mining/article_classification/articles/technology/training/\")\n",
    "tech_res_art = []\n",
    "for i in range(1,100):\n",
    "    tech_res = open(\"training_tech\" + str(i) + \".txt\", \"r\").read()\n",
    "    all_articles.append(tech_res)\n",
    "    genres.append(\"technology\")\n",
    "\n",
    "#PRINT PASS"
   ]
  },
  {
   "cell_type": "markdown",
   "metadata": {},
   "source": [
    "Get all sport files as list"
   ]
  },
  {
   "cell_type": "code",
   "execution_count": 22,
   "metadata": {},
   "outputs": [],
   "source": [
    "os.chdir(\"/home/farkhad/Documents/University/Data_Mining/article_classification/articles/sport/training/\")\n",
    "sport_res_art = []\n",
    "\n",
    "for i in range(1,100):\n",
    "    tech_res = open(\"training_sport\" + str(i) + \".txt\", \"r\").read()\n",
    "    all_articles.append(tech_res)\n",
    "    genres.append(\"sport\")\n",
    "#PRINT PASS"
   ]
  },
  {
   "cell_type": "markdown",
   "metadata": {},
   "source": [
    "Create DataFrame."
   ]
  },
  {
   "cell_type": "code",
   "execution_count": 24,
   "metadata": {},
   "outputs": [
    {
     "data": {
      "text/html": [
       "<div>\n",
       "<style scoped>\n",
       "    .dataframe tbody tr th:only-of-type {\n",
       "        vertical-align: middle;\n",
       "    }\n",
       "\n",
       "    .dataframe tbody tr th {\n",
       "        vertical-align: top;\n",
       "    }\n",
       "\n",
       "    .dataframe thead th {\n",
       "        text-align: right;\n",
       "    }\n",
       "</style>\n",
       "<table border=\"1\" class=\"dataframe\">\n",
       "  <thead>\n",
       "    <tr style=\"text-align: right;\">\n",
       "      <th></th>\n",
       "      <th>articles</th>\n",
       "      <th>genres</th>\n",
       "    </tr>\n",
       "  </thead>\n",
       "  <tbody>\n",
       "    <tr>\n",
       "      <th>0</th>\n",
       "      <td>The European Commission has clarified claims o...</td>\n",
       "      <td>technology</td>\n",
       "    </tr>\n",
       "    <tr>\n",
       "      <th>1</th>\n",
       "      <td>Audio player loading…\\n\\nAs the European Union...</td>\n",
       "      <td>technology</td>\n",
       "    </tr>\n",
       "    <tr>\n",
       "      <th>2</th>\n",
       "      <td>As mentioned previously, the European Commissi...</td>\n",
       "      <td>technology</td>\n",
       "    </tr>\n",
       "    <tr>\n",
       "      <th>3</th>\n",
       "      <td>The European Commission has responded to repor...</td>\n",
       "      <td>technology</td>\n",
       "    </tr>\n",
       "    <tr>\n",
       "      <th>4</th>\n",
       "      <td>God of War Ragnarok only released a few days a...</td>\n",
       "      <td>technology</td>\n",
       "    </tr>\n",
       "    <tr>\n",
       "      <th>...</th>\n",
       "      <td>...</td>\n",
       "      <td>...</td>\n",
       "    </tr>\n",
       "    <tr>\n",
       "      <th>193</th>\n",
       "      <td>Sunday updates will begin when teams start rel...</td>\n",
       "      <td>sport</td>\n",
       "    </tr>\n",
       "    <tr>\n",
       "      <th>194</th>\n",
       "      <td>DALLAS -- Luka Doncic, who admitted fatigue fo...</td>\n",
       "      <td>sport</td>\n",
       "    </tr>\n",
       "    <tr>\n",
       "      <th>195</th>\n",
       "      <td>The Portland Trail Blazers finished off their ...</td>\n",
       "      <td>sport</td>\n",
       "    </tr>\n",
       "    <tr>\n",
       "      <th>196</th>\n",
       "      <td>Nothing alleviates the hangover from a nasty 0...</td>\n",
       "      <td>sport</td>\n",
       "    </tr>\n",
       "    <tr>\n",
       "      <th>197</th>\n",
       "      <td>Arizona running back Michael Wiley, right, fen...</td>\n",
       "      <td>sport</td>\n",
       "    </tr>\n",
       "  </tbody>\n",
       "</table>\n",
       "<p>198 rows × 2 columns</p>\n",
       "</div>"
      ],
      "text/plain": [
       "                                              articles      genres\n",
       "0    The European Commission has clarified claims o...  technology\n",
       "1    Audio player loading…\\n\\nAs the European Union...  technology\n",
       "2    As mentioned previously, the European Commissi...  technology\n",
       "3    The European Commission has responded to repor...  technology\n",
       "4    God of War Ragnarok only released a few days a...  technology\n",
       "..                                                 ...         ...\n",
       "193  Sunday updates will begin when teams start rel...       sport\n",
       "194  DALLAS -- Luka Doncic, who admitted fatigue fo...       sport\n",
       "195  The Portland Trail Blazers finished off their ...       sport\n",
       "196  Nothing alleviates the hangover from a nasty 0...       sport\n",
       "197  Arizona running back Michael Wiley, right, fen...       sport\n",
       "\n",
       "[198 rows x 2 columns]"
      ]
     },
     "execution_count": 24,
     "metadata": {},
     "output_type": "execute_result"
    }
   ],
   "source": [
    "d = {'articles' : all_articles, 'genres' : genres}\n",
    "df = pd.DataFrame(data=d)\n",
    "#df=df.transpose()\n",
    "df"
   ]
  },
  {
   "cell_type": "markdown",
   "metadata": {},
   "source": [
    "Make everything lowercase."
   ]
  },
  {
   "cell_type": "code",
   "execution_count": 25,
   "metadata": {},
   "outputs": [
    {
     "data": {
      "text/html": [
       "<div>\n",
       "<style scoped>\n",
       "    .dataframe tbody tr th:only-of-type {\n",
       "        vertical-align: middle;\n",
       "    }\n",
       "\n",
       "    .dataframe tbody tr th {\n",
       "        vertical-align: top;\n",
       "    }\n",
       "\n",
       "    .dataframe thead th {\n",
       "        text-align: right;\n",
       "    }\n",
       "</style>\n",
       "<table border=\"1\" class=\"dataframe\">\n",
       "  <thead>\n",
       "    <tr style=\"text-align: right;\">\n",
       "      <th></th>\n",
       "      <th>articles</th>\n",
       "      <th>genres</th>\n",
       "    </tr>\n",
       "  </thead>\n",
       "  <tbody>\n",
       "    <tr>\n",
       "      <th>0</th>\n",
       "      <td>the european commission has clarified claims o...</td>\n",
       "      <td>technology</td>\n",
       "    </tr>\n",
       "    <tr>\n",
       "      <th>1</th>\n",
       "      <td>audio player loading…\\n\\nas the european union...</td>\n",
       "      <td>technology</td>\n",
       "    </tr>\n",
       "    <tr>\n",
       "      <th>2</th>\n",
       "      <td>as mentioned previously, the european commissi...</td>\n",
       "      <td>technology</td>\n",
       "    </tr>\n",
       "    <tr>\n",
       "      <th>3</th>\n",
       "      <td>the european commission has responded to repor...</td>\n",
       "      <td>technology</td>\n",
       "    </tr>\n",
       "    <tr>\n",
       "      <th>4</th>\n",
       "      <td>god of war ragnarok only released a few days a...</td>\n",
       "      <td>technology</td>\n",
       "    </tr>\n",
       "    <tr>\n",
       "      <th>...</th>\n",
       "      <td>...</td>\n",
       "      <td>...</td>\n",
       "    </tr>\n",
       "    <tr>\n",
       "      <th>193</th>\n",
       "      <td>sunday updates will begin when teams start rel...</td>\n",
       "      <td>sport</td>\n",
       "    </tr>\n",
       "    <tr>\n",
       "      <th>194</th>\n",
       "      <td>dallas -- luka doncic, who admitted fatigue fo...</td>\n",
       "      <td>sport</td>\n",
       "    </tr>\n",
       "    <tr>\n",
       "      <th>195</th>\n",
       "      <td>the portland trail blazers finished off their ...</td>\n",
       "      <td>sport</td>\n",
       "    </tr>\n",
       "    <tr>\n",
       "      <th>196</th>\n",
       "      <td>nothing alleviates the hangover from a nasty 0...</td>\n",
       "      <td>sport</td>\n",
       "    </tr>\n",
       "    <tr>\n",
       "      <th>197</th>\n",
       "      <td>arizona running back michael wiley, right, fen...</td>\n",
       "      <td>sport</td>\n",
       "    </tr>\n",
       "  </tbody>\n",
       "</table>\n",
       "<p>198 rows × 2 columns</p>\n",
       "</div>"
      ],
      "text/plain": [
       "                                              articles      genres\n",
       "0    the european commission has clarified claims o...  technology\n",
       "1    audio player loading…\\n\\nas the european union...  technology\n",
       "2    as mentioned previously, the european commissi...  technology\n",
       "3    the european commission has responded to repor...  technology\n",
       "4    god of war ragnarok only released a few days a...  technology\n",
       "..                                                 ...         ...\n",
       "193  sunday updates will begin when teams start rel...       sport\n",
       "194  dallas -- luka doncic, who admitted fatigue fo...       sport\n",
       "195  the portland trail blazers finished off their ...       sport\n",
       "196  nothing alleviates the hangover from a nasty 0...       sport\n",
       "197  arizona running back michael wiley, right, fen...       sport\n",
       "\n",
       "[198 rows x 2 columns]"
      ]
     },
     "execution_count": 25,
     "metadata": {},
     "output_type": "execute_result"
    }
   ],
   "source": [
    "df[\"articles\"] = df[\"articles\"].apply(lambda str : str.lower())\n",
    "df"
   ]
  },
  {
   "cell_type": "markdown",
   "metadata": {},
   "source": [
    "Calculate the probability."
   ]
  },
  {
   "cell_type": "code",
   "execution_count": 26,
   "metadata": {},
   "outputs": [
    {
     "name": "stdout",
     "output_type": "stream",
     "text": [
      "0.5\n",
      "0.5\n"
     ]
    }
   ],
   "source": [
    "sum_s = 0\n",
    "sum_t = 0\n",
    "for i in df['genres']:\n",
    "    if i == \"sport\":\n",
    "        sum_s +=1\n",
    "    else:\n",
    "        sum_t +=1\n",
    "\n",
    "prob_s = sum_s/len(df)\n",
    "prob_t = sum_t/len(df)\n",
    "print(prob_s)\n",
    "print(prob_t)"
   ]
  },
  {
   "cell_type": "markdown",
   "metadata": {},
   "source": [
    "Remove stopwords and symbols."
   ]
  },
  {
   "cell_type": "code",
   "execution_count": null,
   "metadata": {},
   "outputs": [],
   "source": [
    "#STOPWORDS CODE HERE"
   ]
  },
  {
   "cell_type": "markdown",
   "metadata": {},
   "source": [
    "Make a bag of words"
   ]
  },
  {
   "cell_type": "code",
   "execution_count": 27,
   "metadata": {},
   "outputs": [
    {
     "data": {
      "text/html": [
       "<div>\n",
       "<style scoped>\n",
       "    .dataframe tbody tr th:only-of-type {\n",
       "        vertical-align: middle;\n",
       "    }\n",
       "\n",
       "    .dataframe tbody tr th {\n",
       "        vertical-align: top;\n",
       "    }\n",
       "\n",
       "    .dataframe thead th {\n",
       "        text-align: right;\n",
       "    }\n",
       "</style>\n",
       "<table border=\"1\" class=\"dataframe\">\n",
       "  <thead>\n",
       "    <tr style=\"text-align: right;\">\n",
       "      <th></th>\n",
       "      <th>articles</th>\n",
       "      <th>genres</th>\n",
       "      <th>bow</th>\n",
       "    </tr>\n",
       "  </thead>\n",
       "  <tbody>\n",
       "    <tr>\n",
       "      <th>0</th>\n",
       "      <td>the european commission has clarified claims o...</td>\n",
       "      <td>technology</td>\n",
       "      <td>{'the': 44, 'european': 4, 'commission': 6, 'h...</td>\n",
       "    </tr>\n",
       "    <tr>\n",
       "      <th>1</th>\n",
       "      <td>audio player loading…\\n\\nas the european union...</td>\n",
       "      <td>technology</td>\n",
       "      <td>{'audio': 1, 'player': 1, 'loading…': 1, 'as':...</td>\n",
       "    </tr>\n",
       "    <tr>\n",
       "      <th>2</th>\n",
       "      <td>as mentioned previously, the european commissi...</td>\n",
       "      <td>technology</td>\n",
       "      <td>{'as': 4, 'mentioned': 1, 'previously,': 1, 't...</td>\n",
       "    </tr>\n",
       "    <tr>\n",
       "      <th>3</th>\n",
       "      <td>the european commission has responded to repor...</td>\n",
       "      <td>technology</td>\n",
       "      <td>{'the': 26, 'european': 7, 'commission': 7, 'h...</td>\n",
       "    </tr>\n",
       "    <tr>\n",
       "      <th>4</th>\n",
       "      <td>god of war ragnarok only released a few days a...</td>\n",
       "      <td>technology</td>\n",
       "      <td>{'god': 4, 'of': 10, 'war': 4, 'ragnarok': 4, ...</td>\n",
       "    </tr>\n",
       "    <tr>\n",
       "      <th>...</th>\n",
       "      <td>...</td>\n",
       "      <td>...</td>\n",
       "      <td>...</td>\n",
       "    </tr>\n",
       "    <tr>\n",
       "      <th>193</th>\n",
       "      <td>sunday updates will begin when teams start rel...</td>\n",
       "      <td>sport</td>\n",
       "      <td>{'sunday': 2, 'updates': 1, 'will': 14, 'begin...</td>\n",
       "    </tr>\n",
       "    <tr>\n",
       "      <th>194</th>\n",
       "      <td>dallas -- luka doncic, who admitted fatigue fo...</td>\n",
       "      <td>sport</td>\n",
       "      <td>{'dallas': 3, '--': 3, 'luka': 1, 'doncic,': 3...</td>\n",
       "    </tr>\n",
       "    <tr>\n",
       "      <th>195</th>\n",
       "      <td>the portland trail blazers finished off their ...</td>\n",
       "      <td>sport</td>\n",
       "      <td>{'the': 73, 'portland': 8, 'trail': 1, 'blazer...</td>\n",
       "    </tr>\n",
       "    <tr>\n",
       "      <th>196</th>\n",
       "      <td>nothing alleviates the hangover from a nasty 0...</td>\n",
       "      <td>sport</td>\n",
       "      <td>{'nothing': 1, 'alleviates': 1, 'the': 52, 'ha...</td>\n",
       "    </tr>\n",
       "    <tr>\n",
       "      <th>197</th>\n",
       "      <td>arizona running back michael wiley, right, fen...</td>\n",
       "      <td>sport</td>\n",
       "      <td>{'arizona': 9, 'running': 4, 'back': 4, 'micha...</td>\n",
       "    </tr>\n",
       "  </tbody>\n",
       "</table>\n",
       "<p>198 rows × 3 columns</p>\n",
       "</div>"
      ],
      "text/plain": [
       "                                              articles      genres  \\\n",
       "0    the european commission has clarified claims o...  technology   \n",
       "1    audio player loading…\\n\\nas the european union...  technology   \n",
       "2    as mentioned previously, the european commissi...  technology   \n",
       "3    the european commission has responded to repor...  technology   \n",
       "4    god of war ragnarok only released a few days a...  technology   \n",
       "..                                                 ...         ...   \n",
       "193  sunday updates will begin when teams start rel...       sport   \n",
       "194  dallas -- luka doncic, who admitted fatigue fo...       sport   \n",
       "195  the portland trail blazers finished off their ...       sport   \n",
       "196  nothing alleviates the hangover from a nasty 0...       sport   \n",
       "197  arizona running back michael wiley, right, fen...       sport   \n",
       "\n",
       "                                                   bow  \n",
       "0    {'the': 44, 'european': 4, 'commission': 6, 'h...  \n",
       "1    {'audio': 1, 'player': 1, 'loading…': 1, 'as':...  \n",
       "2    {'as': 4, 'mentioned': 1, 'previously,': 1, 't...  \n",
       "3    {'the': 26, 'european': 7, 'commission': 7, 'h...  \n",
       "4    {'god': 4, 'of': 10, 'war': 4, 'ragnarok': 4, ...  \n",
       "..                                                 ...  \n",
       "193  {'sunday': 2, 'updates': 1, 'will': 14, 'begin...  \n",
       "194  {'dallas': 3, '--': 3, 'luka': 1, 'doncic,': 3...  \n",
       "195  {'the': 73, 'portland': 8, 'trail': 1, 'blazer...  \n",
       "196  {'nothing': 1, 'alleviates': 1, 'the': 52, 'ha...  \n",
       "197  {'arizona': 9, 'running': 4, 'back': 4, 'micha...  \n",
       "\n",
       "[198 rows x 3 columns]"
      ]
     },
     "execution_count": 27,
     "metadata": {},
     "output_type": "execute_result"
    }
   ],
   "source": [
    "df[\"bow\"]  = df[\"articles\"].str.split().apply(Counter)\n",
    "df"
   ]
  },
  {
   "cell_type": "code",
   "execution_count": 38,
   "metadata": {},
   "outputs": [],
   "source": [
    "sum_bow_s = {}\n",
    "sum_bow_t = {}\n",
    "i=0\n",
    "for bow in df[\"bow\"]:\n",
    "    for key in bow:\n",
    "        if df[\"genres\"][i] == \"sport\":\n",
    "            if key in sum_bow_s:\n",
    "                sum_bow_s[key] += bow[key]\n",
    "            else:\n",
    "                sum_bow_s[key] = bow[key]\n",
    "        else:\n",
    "            if key in sum_bow_t:\n",
    "                sum_bow_t[key] +=bow[key]\n",
    "            else:\n",
    "                sum_bow_t[key] = bow[key]\n",
    "    i += 1\n",
    "\n",
    "#PRINT PASS"
   ]
  },
  {
   "cell_type": "markdown",
   "metadata": {},
   "source": [
    "calculate total words/terms in Sport and Tech class."
   ]
  },
  {
   "cell_type": "code",
   "execution_count": 43,
   "metadata": {},
   "outputs": [],
   "source": [
    "term_occurences_s = 0\n",
    "term_occurences_t = 0\n",
    "for key in sum_bow_s:\n",
    "    term_occurences_s += sum_bow_s[key]\n",
    "for key in sum_bow_t:    \n",
    "    term_occurences_t += sum_bow_t[key]\n",
    "\n",
    "#print(term_occurences_t) 68593\n",
    "#print(term_occurences_s) 64906"
   ]
  },
  {
   "cell_type": "markdown",
   "metadata": {},
   "source": [
    "Calculate unique words."
   ]
  },
  {
   "cell_type": "code",
   "execution_count": 47,
   "metadata": {},
   "outputs": [],
   "source": [
    "temp = []\n",
    "unique_term = 0\n",
    "for bow in df[\"bow\"]:\n",
    "    for key in bow:\n",
    "        if key not in temp:\n",
    "            unique_term += 1\n",
    "            temp.append(key)\n",
    "\n",
    "#print(temp)\n",
    "#print(unique_term) 19813"
   ]
  },
  {
   "cell_type": "markdown",
   "metadata": {},
   "source": [
    "We store the probability of each word in training data in a dictionary called prob_bow"
   ]
  },
  {
   "cell_type": "code",
   "execution_count": 61,
   "metadata": {},
   "outputs": [],
   "source": [
    "sum_bow = {}\n",
    "term_occurences = 0\n",
    "for bow in df[\"bow\"]:\n",
    "    for key in bow:\n",
    "        if key in sum_bow:\n",
    "            sum_bow[key] += bow[key]\n",
    "        else:\n",
    "            sum_bow[key] = bow[key]\n",
    "        term_occurences += bow[key]\n",
    "\n",
    "prob_bow = {}\n",
    "# Adding +1 for better results\n",
    "for key in sum_bow:\n",
    "    prob_bow[key] = (sum_bow[key]/term_occurences) + 1\n",
    "\n",
    "#prob_bow  "
   ]
  },
  {
   "cell_type": "markdown",
   "metadata": {},
   "source": [
    "Probability of article being Sport or Technology related based on words in it."
   ]
  },
  {
   "cell_type": "code",
   "execution_count": 67,
   "metadata": {},
   "outputs": [
    {
     "name": "stdout",
     "output_type": "stream",
     "text": [
      "6.49156392633727e-05\n",
      "2.170264505050536e-13\n"
     ]
    }
   ],
   "source": [
    "def split(words):\n",
    "    return words.split()\n",
    "\n",
    "def lower(words):\n",
    "    return words.lower()\n",
    "\n",
    "def probSport(article):\n",
    "    article = split(lower(article))\n",
    "    likelihood = 1\n",
    "    evidence = 1\n",
    "    for term in article:\n",
    "        if term in sum_bow_s:\n",
    "            likelihood *= (sum_bow_s[term]+1)/(term_occurences_s+unique_term)\n",
    "        else:\n",
    "            likelihood *= 1/(term_occurences_s+unique_term)\n",
    "        evidence *= prob_bow[term]\n",
    "    likelihood_prior = likelihood*prob_s\n",
    "    posterior = likelihood_prior/evidence\n",
    "    return posterior\n",
    "\n",
    "def probTech(article):\n",
    "    article = split(lower(article))\n",
    "    likelihood = 1\n",
    "    evidence = 1\n",
    "    for term in article:\n",
    "        if term in sum_bow_t:\n",
    "            likelihood *= (sum_bow_t[term]+1)/(term_occurences_t+unique_term)\n",
    "        else:\n",
    "            likelihood *= 1/(term_occurences_t+unique_term)\n",
    "        evidence *= prob_bow[term]\n",
    "    likelihood_prior = likelihood*prob_t\n",
    "    posterior = likelihood_prior/evidence\n",
    "    return posterior\n",
    "    \n",
    "print(probSport(\"baseball\"))\n",
    "print(probTech(\"computer smartphone technology\"))"
   ]
  }
 ],
 "metadata": {
  "kernelspec": {
   "display_name": "Python 3.10.7 64-bit",
   "language": "python",
   "name": "python3"
  },
  "language_info": {
   "codemirror_mode": {
    "name": "ipython",
    "version": 3
   },
   "file_extension": ".py",
   "mimetype": "text/x-python",
   "name": "python",
   "nbconvert_exporter": "python",
   "pygments_lexer": "ipython3",
   "version": "3.10.7"
  },
  "orig_nbformat": 4,
  "vscode": {
   "interpreter": {
    "hash": "916dbcbb3f70747c44a77c7bcd40155683ae19c65e1c03b4aa3499c5328201f1"
   }
  }
 },
 "nbformat": 4,
 "nbformat_minor": 2
}
