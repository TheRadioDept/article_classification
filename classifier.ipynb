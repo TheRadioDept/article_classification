{
 "cells": [
  {
   "cell_type": "code",
   "execution_count": 25,
   "metadata": {},
   "outputs": [
    {
     "name": "stderr",
     "output_type": "stream",
     "text": [
      "[nltk_data] Downloading package punkt to /home/farkhad/nltk_data...\n",
      "[nltk_data]   Package punkt is already up-to-date!\n"
     ]
    }
   ],
   "source": [
    "import pandas as pd\n",
    "import os\n",
    "import nltk\n",
    "nltk.download('punkt')\n",
    "from nltk.corpus import stopwords\n",
    "from nltk import word_tokenize"
   ]
  },
  {
   "cell_type": "markdown",
   "metadata": {},
   "source": [
    "This code is used to open existing RAW article and filter it. We are removing stop words, and splitting text into list of words."
   ]
  },
  {
   "cell_type": "code",
   "execution_count": 24,
   "metadata": {},
   "outputs": [],
   "source": [
    "def articleClean():\n",
    "    data = open(\"test_article.txt\", \"r\")\n",
    "    article = data.read()\n",
    "\n",
    "    stop_words = set(stopwords.words('english'))\n",
    "\n",
    "    word_tokens = word_tokenize(article)\n",
    "\n",
    "    filtered_data = [] \n",
    "    for word in word_tokens:\n",
    "        if word not in stop_words:\n",
    "            filtered_data.append(word)\n",
    "    \n",
    "    string_set = ' '.join(str(e) for e in filtered_data)\n",
    "    \n",
    "    file = open(\"training_set.csv\", \"w+\")\n",
    "    file.write(string_set)\n",
    "    file.close()\n",
    "    \n",
    "    "
   ]
  },
  {
   "cell_type": "markdown",
   "metadata": {},
   "source": [
    "Executing articleClean() function."
   ]
  },
  {
   "cell_type": "code",
   "execution_count": 36,
   "metadata": {},
   "outputs": [],
   "source": [
    "articleClean()"
   ]
  },
  {
   "cell_type": "markdown",
   "metadata": {},
   "source": [
    "Get all files as list"
   ]
  },
  {
   "cell_type": "code",
   "execution_count": 45,
   "metadata": {},
   "outputs": [
    {
     "name": "stdout",
     "output_type": "stream",
     "text": [
      "['training_tech26.txt', 'training_tech41.txt', 'training_tech68.txt', 'training_tech84.txt', 'training_tech52.txt', 'training_tech46.txt', 'training_tech35.txt', 'training_tech47.txt', 'training_tech74.txt', 'training_tech31.txt', 'training_tech9.txt', 'training_tech12.txt', 'training_tech53.txt', 'training_tech76.txt', 'training_tech79.txt', 'training_tech100.txt', 'training_tech91.txt', 'training_tech92.txt', 'training_tech85.txt', 'training_tech62.txt', 'training_tech5.txt', 'training_tech59.txt', 'training_tech57.txt', 'training_tech2.txt', 'training_tech63.txt', 'training_tech86.txt', 'training_tech40.txt', 'training_tech25.txt', 'training_tech61.txt', 'training_tech10.txt', 'training_tech99.txt', 'training_tech16.txt', 'training_tech13.txt', 'training_tech23.txt', 'training_tech93.txt', 'training_tech87.txt', 'training_tech22.txt', 'training_tech77.txt', 'training_tech73.txt', 'training_tech30.txt', 'training_tech83.txt', 'training_tech78.txt', 'training_tech38.txt', 'training_tech32.txt', 'training_tech50.txt', 'training_tech43.txt', 'training_tech71.txt', 'training_tech1.txt', 'training_tech98.txt', 'training_tech15.txt', 'training_tech54.txt', 'training_tech48.txt', 'training_tech60.txt', 'training_tech11.txt', 'training_tech97.txt', 'training_tech56.txt', 'training_tech33.txt', 'training_tech37.txt', 'training_tech58.txt', 'training_tech72.txt', 'training_tech90.txt', 'training_tech44.txt', 'training_tech51.txt', 'training_tech95.txt', 'training_tech66.txt', 'training_tech20.txt', 'training_tech29.txt', 'training_tech96.txt', 'training_tech67.txt', 'training_tech18.txt', 'training_tech82.txt', 'training_tech88.txt', 'training_tech24.txt', 'training_tech49.txt', 'training_tech89.txt', 'training_tech27.txt', 'training_tech28.txt', 'training_tech14.txt', 'training_tech39.txt', 'training_tech42.txt', 'training_tech6.txt', 'training_tech7.txt', 'training_tech80.txt', 'training_tech21.txt', 'training_tech81.txt', 'training_tech19.txt', 'training_tech55.txt', 'training_tech45.txt', 'training_tech36.txt', 'training_tech75.txt', 'training_tech70.txt', 'training_tech4.txt', 'training_tech69.txt', 'training_tech17.txt', 'training_tech8.txt', 'training_tech65.txt', 'training_tech64.txt', 'training_tech94.txt', 'training_tech3.txt', 'training_tech34.txt']\n"
     ]
    }
   ],
   "source": [
    "tech_dir_path = \"/home/farkhad/jupy/articles/technology/training\"\n",
    "res = []\n",
    "\n",
    "tech_res = os.listdir(tech_dir_path)\n",
    "print(tech_res)"
   ]
  },
  {
   "cell_type": "markdown",
   "metadata": {},
   "source": [
    "Get all sport files as list"
   ]
  },
  {
   "cell_type": "code",
   "execution_count": 46,
   "metadata": {},
   "outputs": [
    {
     "name": "stdout",
     "output_type": "stream",
     "text": [
      "['training_sport50.txt', 'training_sport25.txt', 'training_sport36.txt', 'training_sport78.txt', 'training_sport14.txt', 'training_sport13.txt', 'training_sport66.txt', 'training_sport47.txt', 'training_sport34.txt', 'training_sport54.txt', 'training_sport68.txt', 'training_sport7.txt', 'training_sport23.txt', 'training_sport93.txt', 'training_sport10.txt', 'training_sport53.txt', 'training_sport20.txt', 'training_sport11.txt', 'training_sport89.txt', 'training_sport95.txt', 'training_sport33.txt', 'training_sport85.txt', 'training_sport17.txt', 'training_sport52.txt', 'training_sport64.txt', 'training_sport4.txt', 'training_sport5.txt', 'training_sport82.txt', 'training_sport61.txt', 'training_sport69.txt', 'training_sport3.txt', 'training_sport31.txt', 'training_sport59.txt', 'training_sport75.txt', 'training_sport56.txt', 'training_sport90.txt', 'training_sport63.txt', 'training_sport6.txt', 'training_sport77.txt', 'training_sport74.txt', 'training_sport37.txt', 'training_sport72.txt', 'training_sport8.txt', 'training_sport26.txt', 'training_sport98.txt', 'training_sport12.txt', 'training_sport32.txt', 'training_sport45.txt', 'training_sport55.txt', 'training_sport38.txt', 'training_sport29.txt', 'training_sport80.txt', 'training_sport84.txt', 'training_sport57.txt', 'training_sport42.txt', 'training_sport48.txt', 'training_sport96.txt', 'training_sport94.txt', 'training_sport27.txt', 'training_sport40.txt', 'training_sport21.txt', 'training_sport71.txt', 'training_sport2.txt', 'training_sport24.txt', 'training_sport83.txt', 'training_sport97.txt', 'training_sport65.txt', 'training_sport76.txt', 'training_sport28.txt', 'training_sport58.txt', 'training_sport79.txt', 'training_sport87.txt', 'training_sport92.txt', 'training_sport100.txt', 'training_sport35.txt', 'training_sport60.txt', 'training_sport15.txt', 'training_sport67.txt', 'training_sport22.txt', 'training_sport18.txt', 'training_sport9.txt', 'training_sport46.txt', 'training_sport81.txt', 'training_sport44.txt', 'training_sport43.txt', 'training_sport62.txt', 'training_sport91.txt', 'training_sport19.txt', 'training_sport51.txt', 'training_sport49.txt', 'training_sport41.txt', 'training_sport70.txt', 'training_sport39.txt', 'training_sport88.txt', 'training_sport73.txt', 'training_sport86.txt', 'training_sport99.txt', 'training_sport16.txt', 'training_sport1.txt', 'training_sport30.txt']\n"
     ]
    }
   ],
   "source": [
    "sport_dir_path = \"/home/farkhad/jupy/articles/sport/training\"\n",
    "res = []\n",
    "\n",
    "sport_res = os.listdir(sport_dir_path)\n",
    "print(sport_res)"
   ]
  },
  {
   "cell_type": "markdown",
   "metadata": {},
   "source": [
    "Now we need to arrange them in correct order."
   ]
  },
  {
   "cell_type": "markdown",
   "metadata": {},
   "source": []
  },
  {
   "cell_type": "code",
   "execution_count": null,
   "metadata": {},
   "outputs": [],
   "source": [
    "#Arrange code here"
   ]
  }
 ],
 "metadata": {
  "kernelspec": {
   "display_name": "Python 3 (ipykernel)",
   "language": "python",
   "name": "python3"
  },
  "language_info": {
   "codemirror_mode": {
    "name": "ipython",
    "version": 3
   },
   "file_extension": ".py",
   "mimetype": "text/x-python",
   "name": "python",
   "nbconvert_exporter": "python",
   "pygments_lexer": "ipython3",
   "version": "3.10.6"
  },
  "orig_nbformat": 4
 },
 "nbformat": 4,
 "nbformat_minor": 2
}
